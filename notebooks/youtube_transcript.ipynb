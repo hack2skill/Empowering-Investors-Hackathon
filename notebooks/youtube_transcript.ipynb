{
 "cells": [
  {
   "cell_type": "code",
   "execution_count": 1,
   "metadata": {},
   "outputs": [],
   "source": [
    "from youtube_transcript_api import YouTubeTranscriptApi\n",
    "from pytube import extract\n",
    "from pytube import YouTube"
   ]
  },
  {
   "cell_type": "code",
   "execution_count": 22,
   "metadata": {},
   "outputs": [],
   "source": [
    "import pandas as pd\n",
    "table=pd.read_html('https://en.wikipedia.org/wiki/List_of_companies_listed_on_the_National_Stock_Exchange_of_India')"
   ]
  },
  {
   "cell_type": "code",
   "execution_count": 5,
   "metadata": {},
   "outputs": [
    {
     "name": "stdout",
     "output_type": "stream",
     "text": [
      "Rahul Jain\n",
      "5hhyZtBRwNQ\n"
     ]
    }
   ],
   "source": [
    "video_url = \"https://www.youtube.com/watch?v=5hhyZtBRwNQ\"\n",
    "\n",
    "youtube = YouTube(video_url)\n",
    "\n",
    "author = youtube.author\n",
    "video_id=extract.video_id(video_url)\n",
    "print(author)\n",
    "print(video_id)"
   ]
  },
  {
   "cell_type": "code",
   "execution_count": 3,
   "metadata": {},
   "outputs": [],
   "source": [
    "# using the srt variable with the list of dictionaries\n",
    "# obtained by the .get_transcript() function\n",
    "srt = YouTubeTranscriptApi.get_transcript(video_id)\n",
    "\n",
    "transcript = \"\"\n",
    "for i in srt:\n",
    "    transcript = transcript + \" \" + i[\"text\"]"
   ]
  },
  {
   "cell_type": "code",
   "execution_count": 4,
   "metadata": {},
   "outputs": [
    {
     "name": "stdout",
     "output_type": "stream",
     "text": [
      " hi friends have a look at my screen and you will see a small cap Pharma stock called gtbl and you will see that in the last five years this stock has given close to 2 200 returns and just to put this in context you will see that the leaders in pharmaceutical sector such as Sun Pharma has given in the last five years roughly 97 returns and if you look at another leader such as cipla that has given close to 67 percent in the last five years now the key reason for gtbl to have given such a strong massive growth is because of their extremely high fundamentals let me show you again have a look at my screen and you will see that in the last few years the revenues have been growing at an extremely high rate 26 30 percent here their margins a bit the margins have been growing up like crazy as well as their earning per share has been growing like 44 32 percent this is the reason that the stock has given such a huge return now you might counter challenge me and say that Rahul this stock has already gone from 55 Rupees to roughly 700 rupees level there is nothing left for us retailers well let me just tell you that this stock PE is right now at 19 and if you compare this with Nifty Pharma PE you will see that it is roughly at 31 and also the pack ratio of this stock is right now 0.27 anything less than one is considered to be undervalued my point is very simple can this small cap Pharma stock tomorrow become a mid cap or a large cap stock can this 700 rupees stock go up to 2011 3000 level yes it is absolutely possible in fact I did a detailed post on this particular stock on my member Community you can consider joining my member Community to get such quality information having said that the question remains how do we find such high growth small cap stocks that has the potential to become mid cap or large cap stock in the near future that is what I'm going to teach you in this video what you see on my screen is list of more than 4600 stocks that are listed and our job is to find out extremely high growth small cap stocks that are having low risk as well as that are undervalued right now so that we can consider doing fundamental analysis on those stocks and can look at investing our money for that first thing I'm going to do is select the market cap as small cap because we are only interested in the stocks which are small cap right now but have the potential to go mid cap or large cap in the coming years the second thing we need to do is to check the fundamentals of the company and more importantly the consistency of the growth in certain fundamentals so for that simply what we are going to do is add a few filters so let us go ahead and quickly add five years fundamentals so such as I would like to consider five-year historical Revenue growth I will also like to consider five-year historical ebitda growth I would also like to consider five years historical earning per share growth extremely extremely important let us also consider five-year average net profit margin extremely important from a profitability perspective also let us check out the five years average return on Equity these are the five fundamental parameters that I would like to check the small cap stocks against let us go ahead and add them here and I would consider any stock that has given me on an average 20 for all these five parameters in the last five years so let us go ahead and quickly try and filter out those stocks so I'm gonna go and put more than 20 growth in the revenue growth so let us go ahead and do that likewise I want the ebitda margins to be more than 20 percent likewise the earning per share growth I would like it to be more than 20 percent five years average net profit margin also let us go ahead and put 20 percent more than 20 percent and lastly the return on equity in The Last Five Years on an average basis I would like to have at least 20 this gives me only 14 small cap stocks that has given in the last five years more than 20 percent of these five parameters one thing that also I want to check right now is that what happens that in the last one year for example if the stock is falling down from a fundamentals perspective I do not want to consider it because there may be something wrong just in the last year and we need to make sure that we catch that for that I am going to add two simple filters number one is I'm going to add here net profit margin so let us go ahead and add net profit margin here net profit margin is the last Financial year so let us go ahead and add that likewise I will also like to add return on Capital employed now I have not considered last five years return on Capital employed because here in this tool we do not have that data but when we shortlist the stocks we definitely should check the last five years return on Capital employed as well let us go ahead and add that for here now so we are we have added these two here and again I would like to consider only those stocks that has given me at least 20 growth in the net profit margin as well as in Roc in the last Financial year so let us go ahead and quickly add that here so I'm going to put 20 here as well and I'm going to add 20 in roce as well right that gives us total 12 stocks that has given strong fundamental growth not only in the last five years but the last one years they have made some profits and have generated more than 20 percent return on Capital employed so far if you're liking this video hit the like button share it with your friends and family so that more and more people can be educated in the right way the next thing we need to do is find out out of these 12 stocks the stocks which are right now undervalued so for that I'm going to use three simple filters the first filter that I'm going to use is something called as PE minus sector P this is a filter that I've created myself so you may not be able to find it but let us go ahead and add that P minus sector P what it simply means is that I want to look at those stocks only where the PE of that stock is less than the sector PE right so for that what I'm going to do is say that give me only those stocks where p e minus sector p is less than zero that means that sector PE of that stock is higher so for example I will go ahead and put 0 here and let us see how many stocks we get we get six stocks so right now the six stocks that you see on my screen they have the less PE than their sector PE that means from a sector perspective there are under value let us go ahead and add the second filter the second filter is even more important and that is tag ratio so let us go ahead and add packagio here now many of you may not even understand let me give you five seconds the simplest explanation of PEG ratio now PE ratio you all know it is price of the share divide by the earning per share and lower the P better it is that means higher the EPS or earning per share better it is but the problem with PE ratio is that it tells you the p e ratio at the point in time right what is the earning per share right now what is the price of the share right now it does not tell you how the earning per share of this stock has been growing in the last few years that is where the PEG ratio comes in it takes the p e ratio and divides it by the earning per share in the last five years so you see the formula here p e ratio divide by the historical five years EPS growth higher the EPS growth in the last five years lower the pack ratio will be and better it is theoretically it is said that if the pack ratio is less than one the stock is good or undervalued let us go ahead and add that here and what we are going to do is only select those stocks where the PEG ratio is less than one so let us go ahead and add that so out of these six stocks all of them anyways have less than one pack ratio which is a good check the third valuation filter that I would like us to consider is price to intrinsic value rank that is where an ad that and I will show you that as well so what does price to Intrinsic ratio means intrinsic value ratio simply means is that if you arrange all the stocks on Stock Exchange in the ratio of their current price divide by the intrinsic value you will get a value we need to look at those stocks where the intrinsic value is very high but the price of the stock is less meaning that ratio should be low meaning that the stocks that have high rank that are the stocks that we need to consider so let us go ahead and add that here and I will show you some data as well and you will see that the price to intrinsic value rank of these stocks is extremely high so for example let us say angel one limited is showing 80. what this 80 simply means is that this stock is undervalued as compared to the 80 percent of the stocks listed on the stock exchange likewise for example kill pest India limited here is undervalued as compared to 96 percent of the stocks that are listed on the stock exchange so all of these six stocks you see are into high 60s or 70s or 80s that means that these stocks right now seem to be undervalued from this perspective so so far what we have done is we have looked at the fundamentals of these companies also secondly we have looked at the valuation side of the companies that these companies are undervalued right now so far if you're liking this video hit the like button share it with your friends and family so that more and more people can be educated in the right way now let us talk about the risk associated with these six stocks and we need to consider few factors such as let me show you number one is debt to equity ratio so let us go ahead and add debt to equity all also just so that we want to make sure that these companies should not be having high debt to equity ratio because that is extremely risky from a small cap perspective what you see on my screen is the debt to equal ratio of these companies and you will see that the first two come companies have extremely high debt to equity ratio Angel 136 share India is 43 but please know that these companies are into financial sector these are into Investment Banking I think and therefore it is absolutely fine for these to have higher debt to equity ratio in the cases of banks that two equity ratio goes up to 600 700 so not a problem from that perspective but if you look at Company Number Four here Innova think Labs is showing me extremely high debt to equity ratio and if you look at the sector of this company it is into software meaning that I would not like to consider this stock right now because it is showing me high debt to equity but if I try to filter out these from that tickety perspective then what is going to happen is even the first two will get filtered out so I am leaving it in the list but please understand that Innova think Labs limited is out of the shortlist list because of high debt equity ratio the next thing that we are going to consider is as well is promoters holding extremely important in cases of small cap so let us go ahead and add promoters holding so we are going to look at two things number one is pledged promoter holding and number two is promoter Holdings let us go ahead and add that and you will see on my screen that out of these six companies one of them which is sharing their limited has got pledged promoter holding by 20 as a principal I do not invest in any company unless there are exceptional situations where the promoter Shares are pledged by more than five percent so I am going to put that filter here and remove those companies that have got more than five percent of the promoter shares pledged now look at the promoters holding here and we will see that some of these two of these companies quickly grab my eye number two Gujarat them is bias unlimited the one that I talked about in the beginning as well as number three here in novna think Labs limited that has got higher promoter holding which is extremely extremely important from that perspective but again other remaining companies are also showing me good promoters holding so from that perspective I am not going to filter out any more companies based on the promoters holding it is just a simple check that I wanted to do lastly I also want to look at the free cash flow of these company please just check just a validation so let us go ahead and add free cash flow as well if you look at free cash flow data of these five companies we will see that two of these companies Innova which is again out of this short list anyways because of the higher debt to equity is showing negative cash flow not a good sign and the fourth one is also showing the free cash flow as negative we need to Dig Down Deeper to understand why the free cash flow is zero it is possible that they might have done some capital expenditure in the last Financial year that is causing this but this is a flag that we need to understand this gives us total four small cap stocks that are highly profitable or have shown extremely high fundamentals they have shown that they are undervalued from sector perspective also from a risk perspective we have checked their debt to equity ratio and they seem to be carrying the low risk right now so from that perspective this is a short list it is not a recommendation that you go ahead and invest in these companies this is just a short list now what you really need to do is do comprehensive fundamental analysis of these small cap companies and you must consider at least five of these things number one is check the business mode of these companies and understand why the companies are able to generate such a strong fundamentals in the few years number two you need to check is the management capabilities how is the management place do you think this management team can take this company from small to mid to large cap company number three that you need to check is any important upcoming Milestones such as are there any news of merger D merger stock split and and things like that they are extremely important before you take any positions in the company number four also check whether this company is future looking or not are they doing the right level of Investments to grow the company or not extremely extremely important and number five like this video well jokes apart the reason I am telling you to go and do this analysis is that you are going to learn a lot about these companies and you will make informed decision for example I created a comprehensive post on gtbl on my member Community please consider joining the membership because it will give you quality information that will help you make the right decisions but if you would like me to create a full video on gtbl fundamental analysis let me know in the comments and if I get more than 200 comments asking for the full fundamental analysis of gdbl I will definitely create a video because this is one of my favorite stocks not a stock recommendation but this is one of my favorite stocks because of the growth potential in this stock with that I will see you in my next video keep rocking foreign\n"
     ]
    }
   ],
   "source": [
    "print(transcript)"
   ]
  },
  {
   "cell_type": "code",
   "execution_count": 8,
   "metadata": {},
   "outputs": [],
   "source": [
    "from langchain.chat_models import ChatOpenAI\n",
    "from dotenv import load_dotenv\n",
    "load_dotenv()\n",
    "\n",
    "chat = ChatOpenAI(temperature=0, model_name='gpt-4', request_timeout=120)"
   ]
  },
  {
   "cell_type": "code",
   "execution_count": 9,
   "metadata": {},
   "outputs": [],
   "source": [
    "from langchain.schema import (\n",
    "    HumanMessage,\n",
    "    SystemMessage\n",
    ")\n",
    "\n",
    "messages = [\n",
    "    SystemMessage(content=\"You are a Financial Analyst. Your task is to identify the company stock and the context of claims made on the stock by a Financial Influencer. \\\n",
    "                  Please separate out the theoretical and quantitative analysis from the response. Report the response in JSON format with keys company_name, claims, theoretical_analysis and quantitative_analysis.\"),\n",
    "    HumanMessage(content=transcript)\n",
    "]"
   ]
  },
  {
   "cell_type": "code",
   "execution_count": 10,
   "metadata": {},
   "outputs": [],
   "source": [
    "response = chat(messages)"
   ]
  },
  {
   "cell_type": "code",
   "execution_count": 12,
   "metadata": {},
   "outputs": [
    {
     "data": {
      "text/plain": [
       "{'company_name': 'gtbl',\n",
       " 'claims': ['The stock has given close to 2200% returns in the last five years.',\n",
       "  \"The company's revenues have been growing at an extremely high rate, with margins and earnings per share also growing significantly.\",\n",
       "  \"The stock's PE is currently at 19, compared to the Nifty Pharma PE of 31.\",\n",
       "  'The PEG ratio of the stock is currently 0.27, indicating it is undervalued.',\n",
       "  'The influencer suggests that the stock has the potential to become a mid-cap or large-cap stock and its price could rise significantly.'],\n",
       " 'theoretical_analysis': ['The influencer uses a combination of fundamental and valuation analysis to evaluate the stock.',\n",
       "  'He considers factors such as revenue growth, EBITDA margins, earnings per share growth, net profit margin, and return on equity.',\n",
       "  \"He also looks at the PE ratio, PEG ratio, and price to intrinsic value rank to assess the stock's valuation.\",\n",
       "  \"He further considers the debt to equity ratio, promoter holding, and free cash flow to assess the company's risk profile.\"],\n",
       " 'quantitative_analysis': ['In the last five years, the stock has given returns of approximately 2200%.',\n",
       "  \"The company's revenues have been growing at a rate of 26-30%.\",\n",
       "  'The EBITDA margins and earnings per share have also been growing significantly.',\n",
       "  \"The stock's PE is currently at 19, compared to the Nifty Pharma PE of 31.\",\n",
       "  'The PEG ratio of the stock is currently 0.27.']}"
      ]
     },
     "execution_count": 12,
     "metadata": {},
     "output_type": "execute_result"
    }
   ],
   "source": [
    "eval(response.content)"
   ]
  },
  {
   "cell_type": "code",
   "execution_count": 8,
   "metadata": {},
   "outputs": [],
   "source": [
    "import json\n",
    "\n",
    "with open('data.json', 'w', encoding='utf-8') as f:\n",
    "    json.dump(response.content, f, ensure_ascii=False, indent=4)"
   ]
  },
  {
   "cell_type": "code",
   "execution_count": 9,
   "metadata": {},
   "outputs": [],
   "source": [
    "with open('data.json', 'r', encoding='utf-8') as f:\n",
    "    result = eval(json.load(f))"
   ]
  },
  {
   "cell_type": "code",
   "execution_count": 10,
   "metadata": {},
   "outputs": [
    {
     "data": {
      "text/plain": [
       "dict_keys(['company_name', 'claims', 'theoretical_analysis', 'quantitative_analysis'])"
      ]
     },
     "execution_count": 10,
     "metadata": {},
     "output_type": "execute_result"
    }
   ],
   "source": [
    "result.keys()"
   ]
  },
  {
   "cell_type": "code",
   "execution_count": 11,
   "metadata": {},
   "outputs": [
    {
     "data": {
      "text/plain": [
       "'GTBL'"
      ]
     },
     "execution_count": 11,
     "metadata": {},
     "output_type": "execute_result"
    }
   ],
   "source": [
    "result[\"company_name\"]"
   ]
  },
  {
   "cell_type": "code",
   "execution_count": 12,
   "metadata": {},
   "outputs": [
    {
     "data": {
      "text/plain": [
       "\"The stock has given a return of 2,200% in the last five years, outperforming leaders like Sun Pharma and Cipla. The high growth in fundamentals, such as revenue, margins, and earnings per share, has been the key reason for the stock's strong performance. The stock is currently undervalued with a P/E ratio of 19 compared to the sector P/E of 31. The stock has the potential to become a mid-cap or large-cap stock in the future.\""
      ]
     },
     "execution_count": 12,
     "metadata": {},
     "output_type": "execute_result"
    }
   ],
   "source": [
    "result[\"claims\"]"
   ]
  },
  {
   "cell_type": "code",
   "execution_count": 13,
   "metadata": {},
   "outputs": [
    {
     "data": {
      "text/plain": [
       "\"The Financial Influencer claims that GTBL has delivered a significant return of 2,200% in the last five years, outperforming industry leaders Sun Pharma and Cipla. The growth in fundamentals, including revenue, margins, and earnings per share, has been strong, which has contributed to the stock's impressive performance. The stock is currently undervalued with a P/E ratio of 19 compared to the sector P/E of 31. The Influencer suggests that the stock has the potential to become a mid-cap or large-cap stock in the future.\""
      ]
     },
     "execution_count": 13,
     "metadata": {},
     "output_type": "execute_result"
    }
   ],
   "source": [
    "result[\"theoretical_analysis\"]"
   ]
  },
  {
   "cell_type": "code",
   "execution_count": 14,
   "metadata": {},
   "outputs": [
    {
     "data": {
      "text/plain": [
       "\"Based on the Financial Influencer's analysis, GTBL has shown strong growth in revenue, margins, and earnings per share over the last five years. The stock's P/E ratio of 19 indicates that it is currently undervalued compared to the sector P/E of 31. However, it is important to conduct a comprehensive fundamental analysis of the company, including assessing its business model, management capabilities, upcoming milestones, and future investments, to make an informed investment decision. The Influencer also mentions the importance of checking the debt-to-equity ratio, promoter holding, and free cash flow to evaluate the risk associated with the stock. It is recommended to conduct thorough research and analysis before considering any investment in GTBL or any other stock mentioned.\""
      ]
     },
     "execution_count": 14,
     "metadata": {},
     "output_type": "execute_result"
    }
   ],
   "source": [
    "result[\"quantitative_analysis\"]"
   ]
  },
  {
   "cell_type": "code",
   "execution_count": null,
   "metadata": {},
   "outputs": [],
   "source": []
  }
 ],
 "metadata": {
  "kernelspec": {
   "display_name": "venv",
   "language": "python",
   "name": "python3"
  },
  "language_info": {
   "codemirror_mode": {
    "name": "ipython",
    "version": 3
   },
   "file_extension": ".py",
   "mimetype": "text/x-python",
   "name": "python",
   "nbconvert_exporter": "python",
   "pygments_lexer": "ipython3",
   "version": "3.9.6"
  },
  "orig_nbformat": 4
 },
 "nbformat": 4,
 "nbformat_minor": 2
}
