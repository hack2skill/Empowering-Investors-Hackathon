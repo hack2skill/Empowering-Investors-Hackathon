{
  "cells": [
    {
      "cell_type": "code",
      "execution_count": 18,
      "metadata": {
        "id": "pQihj_lde-G_"
      },
      "outputs": [],
      "source": [
        "import pandas as pd\n",
        "from sklearn.preprocessing import StandardScaler\n",
        "from sklearn.cluster import KMeans\n",
        "import matplotlib.pyplot as plt\n",
        "import seaborn as sns"
      ]
    },
    {
      "cell_type": "code",
      "execution_count": 19,
      "metadata": {
        "colab": {
          "base_uri": "https://localhost:8080/",
          "height": 423
        },
        "id": "Doz7HS-nfPXS",
        "outputId": "dfb9c107-b17f-48ea-95f4-c87932230810"
      },
      "outputs": [
        {
          "data": {
            "text/html": [
              "<div>\n",
              "<style scoped>\n",
              "    .dataframe tbody tr th:only-of-type {\n",
              "        vertical-align: middle;\n",
              "    }\n",
              "\n",
              "    .dataframe tbody tr th {\n",
              "        vertical-align: top;\n",
              "    }\n",
              "\n",
              "    .dataframe thead th {\n",
              "        text-align: right;\n",
              "    }\n",
              "</style>\n",
              "<table border=\"1\" class=\"dataframe\">\n",
              "  <thead>\n",
              "    <tr style=\"text-align: right;\">\n",
              "      <th></th>\n",
              "      <th>coin</th>\n",
              "      <th>symbol</th>\n",
              "      <th>price(USD)</th>\n",
              "      <th>1h_Price_Change</th>\n",
              "      <th>24h_Price_Change</th>\n",
              "      <th>7d_Price_Change</th>\n",
              "      <th>24h_volume</th>\n",
              "      <th>Market_cap</th>\n",
              "      <th>date</th>\n",
              "    </tr>\n",
              "  </thead>\n",
              "  <tbody>\n",
              "    <tr>\n",
              "      <th>0</th>\n",
              "      <td>Bitcoin</td>\n",
              "      <td>BTC</td>\n",
              "      <td>40859.460000</td>\n",
              "      <td>0.022</td>\n",
              "      <td>0.030</td>\n",
              "      <td>0.055</td>\n",
              "      <td>3.539076e+10</td>\n",
              "      <td>7.709915e+11</td>\n",
              "      <td>2022-03-16</td>\n",
              "    </tr>\n",
              "    <tr>\n",
              "      <th>1</th>\n",
              "      <td>Ethereum</td>\n",
              "      <td>ETH</td>\n",
              "      <td>2744.410000</td>\n",
              "      <td>0.024</td>\n",
              "      <td>0.034</td>\n",
              "      <td>0.065</td>\n",
              "      <td>1.974870e+10</td>\n",
              "      <td>3.271044e+11</td>\n",
              "      <td>2022-03-16</td>\n",
              "    </tr>\n",
              "    <tr>\n",
              "      <th>2</th>\n",
              "      <td>Tether</td>\n",
              "      <td>USDT</td>\n",
              "      <td>1.000000</td>\n",
              "      <td>-0.001</td>\n",
              "      <td>-0.001</td>\n",
              "      <td>0.000</td>\n",
              "      <td>5.793497e+10</td>\n",
              "      <td>7.996516e+10</td>\n",
              "      <td>2022-03-16</td>\n",
              "    </tr>\n",
              "    <tr>\n",
              "      <th>3</th>\n",
              "      <td>BNB</td>\n",
              "      <td>BNB</td>\n",
              "      <td>383.430000</td>\n",
              "      <td>0.018</td>\n",
              "      <td>0.028</td>\n",
              "      <td>0.004</td>\n",
              "      <td>1.395854e+09</td>\n",
              "      <td>6.404382e+10</td>\n",
              "      <td>2022-03-16</td>\n",
              "    </tr>\n",
              "    <tr>\n",
              "      <th>4</th>\n",
              "      <td>USD Coin</td>\n",
              "      <td>USDC</td>\n",
              "      <td>0.999874</td>\n",
              "      <td>-0.001</td>\n",
              "      <td>0.000</td>\n",
              "      <td>-0.000</td>\n",
              "      <td>3.872274e+09</td>\n",
              "      <td>5.222214e+10</td>\n",
              "      <td>2022-03-16</td>\n",
              "    </tr>\n",
              "    <tr>\n",
              "      <th>...</th>\n",
              "      <td>...</td>\n",
              "      <td>...</td>\n",
              "      <td>...</td>\n",
              "      <td>...</td>\n",
              "      <td>...</td>\n",
              "      <td>...</td>\n",
              "      <td>...</td>\n",
              "      <td>...</td>\n",
              "      <td>...</td>\n",
              "    </tr>\n",
              "    <tr>\n",
              "      <th>495</th>\n",
              "      <td>ARPA Chain</td>\n",
              "      <td>ARPA</td>\n",
              "      <td>0.068516</td>\n",
              "      <td>0.028</td>\n",
              "      <td>0.026</td>\n",
              "      <td>-0.008</td>\n",
              "      <td>1.483831e+07</td>\n",
              "      <td>6.689248e+07</td>\n",
              "      <td>2022-03-16</td>\n",
              "    </tr>\n",
              "    <tr>\n",
              "      <th>496</th>\n",
              "      <td>GuildFi</td>\n",
              "      <td>GF</td>\n",
              "      <td>1.540000</td>\n",
              "      <td>0.005</td>\n",
              "      <td>0.007</td>\n",
              "      <td>0.041</td>\n",
              "      <td>7.298293e+06</td>\n",
              "      <td>6.637061e+07</td>\n",
              "      <td>2022-03-16</td>\n",
              "    </tr>\n",
              "    <tr>\n",
              "      <th>497</th>\n",
              "      <td>EverRise</td>\n",
              "      <td>RISE</td>\n",
              "      <td>0.000951</td>\n",
              "      <td>0.013</td>\n",
              "      <td>0.081</td>\n",
              "      <td>0.030</td>\n",
              "      <td>4.232180e+05</td>\n",
              "      <td>6.634045e+07</td>\n",
              "      <td>2022-03-16</td>\n",
              "    </tr>\n",
              "    <tr>\n",
              "      <th>498</th>\n",
              "      <td>SuperRare</td>\n",
              "      <td>RARE</td>\n",
              "      <td>0.458127</td>\n",
              "      <td>0.018</td>\n",
              "      <td>0.029</td>\n",
              "      <td>0.029</td>\n",
              "      <td>1.642138e+07</td>\n",
              "      <td>6.626426e+07</td>\n",
              "      <td>2022-03-16</td>\n",
              "    </tr>\n",
              "    <tr>\n",
              "      <th>499</th>\n",
              "      <td>Oxygen</td>\n",
              "      <td>OXY</td>\n",
              "      <td>0.325739</td>\n",
              "      <td>0.015</td>\n",
              "      <td>0.001</td>\n",
              "      <td>0.084</td>\n",
              "      <td>4.646240e+05</td>\n",
              "      <td>6.577043e+07</td>\n",
              "      <td>2022-03-16</td>\n",
              "    </tr>\n",
              "  </tbody>\n",
              "</table>\n",
              "<p>500 rows × 9 columns</p>\n",
              "</div>"
            ],
            "text/plain": [
              "           coin symbol    price(USD)  1h_Price_Change  24h_Price_Change  \\\n",
              "0       Bitcoin    BTC  40859.460000            0.022             0.030   \n",
              "1      Ethereum    ETH   2744.410000            0.024             0.034   \n",
              "2        Tether   USDT      1.000000           -0.001            -0.001   \n",
              "3           BNB    BNB    383.430000            0.018             0.028   \n",
              "4      USD Coin   USDC      0.999874           -0.001             0.000   \n",
              "..          ...    ...           ...              ...               ...   \n",
              "495  ARPA Chain   ARPA      0.068516            0.028             0.026   \n",
              "496     GuildFi     GF      1.540000            0.005             0.007   \n",
              "497    EverRise   RISE      0.000951            0.013             0.081   \n",
              "498   SuperRare   RARE      0.458127            0.018             0.029   \n",
              "499      Oxygen    OXY      0.325739            0.015             0.001   \n",
              "\n",
              "     7d_Price_Change    24h_volume    Market_cap        date  \n",
              "0              0.055  3.539076e+10  7.709915e+11  2022-03-16  \n",
              "1              0.065  1.974870e+10  3.271044e+11  2022-03-16  \n",
              "2              0.000  5.793497e+10  7.996516e+10  2022-03-16  \n",
              "3              0.004  1.395854e+09  6.404382e+10  2022-03-16  \n",
              "4             -0.000  3.872274e+09  5.222214e+10  2022-03-16  \n",
              "..               ...           ...           ...         ...  \n",
              "495           -0.008  1.483831e+07  6.689248e+07  2022-03-16  \n",
              "496            0.041  7.298293e+06  6.637061e+07  2022-03-16  \n",
              "497            0.030  4.232180e+05  6.634045e+07  2022-03-16  \n",
              "498            0.029  1.642138e+07  6.626426e+07  2022-03-16  \n",
              "499            0.084  4.646240e+05  6.577043e+07  2022-03-16  \n",
              "\n",
              "[500 rows x 9 columns]"
            ]
          },
          "execution_count": 19,
          "metadata": {},
          "output_type": "execute_result"
        }
      ],
      "source": [
        "# Load cryptocurrency data\n",
        "crypto_data = pd.read_csv('data/CRYPTOCURRENCY.csv')\n",
        "crypto_data"
      ]
    },
    {
      "cell_type": "code",
      "execution_count": 20,
      "metadata": {
        "colab": {
          "base_uri": "https://localhost:8080/"
        },
        "id": "A3bpqSY60Lj5",
        "outputId": "5fb7942e-ec36-4178-837f-a113d4508e8a"
      },
      "outputs": [
        {
          "data": {
            "text/plain": [
              "(500, 9)"
            ]
          },
          "execution_count": 20,
          "metadata": {},
          "output_type": "execute_result"
        }
      ],
      "source": [
        "crypto_data.shape"
      ]
    },
    {
      "cell_type": "code",
      "execution_count": 21,
      "metadata": {
        "colab": {
          "base_uri": "https://localhost:8080/"
        },
        "id": "XZHIPwiS0WCQ",
        "outputId": "97594261-316c-4869-fc45-444888d72ca4"
      },
      "outputs": [
        {
          "data": {
            "text/plain": [
              "4500"
            ]
          },
          "execution_count": 21,
          "metadata": {},
          "output_type": "execute_result"
        }
      ],
      "source": [
        "crypto_data.size"
      ]
    },
    {
      "cell_type": "code",
      "execution_count": 22,
      "metadata": {
        "id": "k93GSF-10ebF"
      },
      "outputs": [],
      "source": [
        "# Perform Data Cleaning and Data preprocessing\n",
        "crypto_data.drop_duplicates(inplace=True)  # Drop duplicate rows"
      ]
    },
    {
      "cell_type": "code",
      "execution_count": 23,
      "metadata": {
        "colab": {
          "base_uri": "https://localhost:8080/"
        },
        "id": "k0Uw3kt15XuL",
        "outputId": "18b8ef4b-279b-4a64-f5c3-d86280c99c6c"
      },
      "outputs": [
        {
          "name": "stdout",
          "output_type": "stream",
          "text": [
            "coin                0\n",
            "symbol              0\n",
            "price(USD)          0\n",
            "1h_Price_Change     3\n",
            "24h_Price_Change    3\n",
            "7d_Price_Change     3\n",
            "24h_volume          3\n",
            "Market_cap          0\n",
            "date                0\n",
            "dtype: int64\n"
          ]
        }
      ],
      "source": [
        "# Check for missing values\n",
        "print(crypto_data.isnull().sum())"
      ]
    },
    {
      "cell_type": "code",
      "execution_count": 24,
      "metadata": {
        "id": "GSp04-Jt5dU4"
      },
      "outputs": [],
      "source": [
        "# Remove rows with NaN values in  columns\n",
        "crypto_data.dropna(inplace=True)"
      ]
    },
    {
      "cell_type": "code",
      "execution_count": 25,
      "metadata": {
        "id": "jD7HWV1i7Xaf"
      },
      "outputs": [],
      "source": [
        "# Save the cleaned and preprocessed data to a new CSV file\n",
        "crypto_data.to_csv('cleaned_cryptocurrency_data.csv', index=False)"
      ]
    },
    {
      "cell_type": "code",
      "execution_count": 27,
      "metadata": {
        "id": "AYGxyShm-elQ"
      },
      "outputs": [],
      "source": [
        "# Feature Selection: Select relevant columns\n",
        "selected_columns = ['coin','symbol','price(USD)','1h_Price_Change','24h_Price_Change','7d_Price_Change','24h_volume','Market_cap','date']\n",
        "crypto_data = crypto_data[selected_columns]"
      ]
    },
    {
      "cell_type": "code",
      "execution_count": 28,
      "metadata": {
        "id": "9BLBEAMGwuH0"
      },
      "outputs": [],
      "source": [
        "# Set the style for seaborn plots\n",
        "sns.set_style(\"whitegrid\")"
      ]
    },
    {
      "cell_type": "code",
      "execution_count": 32,
      "metadata": {
        "colab": {
          "base_uri": "https://localhost:8080/",
          "height": 607
        },
        "id": "pd7mZrvR2KBk",
        "outputId": "b9647c02-390d-47c5-e833-03e1c0dcf696"
      },
      "outputs": [
        {
          "data": {
            "image/png": "[encoded data removed]",
            "text/plain": [
              "<Figure size 1000x600 with 1 Axes>"
            ]
          },
          "metadata": {},
          "output_type": "display_data"
        }
      ],
      "source": [
        "# Visualization : Top 10 Cryptocurrencies by Market Cap\n",
        "top_10_by_mkt_cap = crypto_data.groupby('symbol')['Market_cap'].max().sort_values(ascending=False).head(10)\n",
        "plt.figure(figsize=(10, 6))\n",
        "top_10_by_mkt_cap.plot(kind='bar')\n",
        "plt.title('Top 10 Cryptocurrencies by Market Cap')\n",
        "plt.xlabel('Cryptocurrency Symbol')\n",
        "plt.ylabel('Market Cap (USD)')\n",
        "plt.xticks(rotation=45)\n",
        "plt.tight_layout()\n",
        "plt.show()"
      ]
    },
    {
      "cell_type": "code",
      "execution_count": 35,
      "metadata": {
        "colab": {
          "base_uri": "https://localhost:8080/"
        },
        "id": "ta42cRt-6UgI",
        "outputId": "c501a5a1-94a7-4166-9568-4afa62dec92a"
      },
      "outputs": [
        {
          "name": "stdout",
          "output_type": "stream",
          "text": [
            "Top Performing Cryptocurrencies by 7-day Price Change:\n",
            "     symbol  7d_Price_Change\n",
            "182     GMT            2.935\n",
            "407  ALPINE            1.718\n",
            "368  MSHARE            0.922\n",
            "409   JASMY            0.913\n",
            "54     RUNE            0.769\n"
          ]
        }
      ],
      "source": [
        "# Additional Analysis: Top Performing Cryptocurrencies by 7-day Percentage Change\n",
        "top_performing = crypto_data.nlargest(5, '7d_Price_Change')[['symbol', '7d_Price_Change']]\n",
        "print(\"Top Performing Cryptocurrencies by 7-day Price Change:\")\n",
        "print(top_performing)"
      ]
    },
    {
      "cell_type": "code",
      "execution_count": 36,
      "metadata": {
        "colab": {
          "base_uri": "https://localhost:8080/"
        },
        "id": "HL8zEoYE6pPN",
        "outputId": "a6a59077-e8e9-4768-a277-2fee258ca2e0"
      },
      "outputs": [
        {
          "name": "stdout",
          "output_type": "stream",
          "text": [
            "\n",
            "Cryptocurrency with Highest Price:\n",
            "   symbol  price(USD)\n",
            "68   HBTC    41217.27\n",
            "\n",
            "Cryptocurrency with Lowest Price:\n",
            "    symbol    price(USD)\n",
            "315  KISHU  1.544000e-09\n"
          ]
        }
      ],
      "source": [
        "# Additional Analysis: Cryptocurrencies with Highest and Lowest Price\n",
        "highest_price = crypto_data.nlargest(1, 'price(USD)')[['symbol', 'price(USD)']]\n",
        "lowest_price = crypto_data.nsmallest(1, 'price(USD)')[['symbol', 'price(USD)']]\n",
        "print(\"\\nCryptocurrency with Highest Price:\")\n",
        "print(highest_price)\n",
        "print(\"\\nCryptocurrency with Lowest Price:\")\n",
        "print(lowest_price)"
      ]
    },
    {
      "cell_type": "code",
      "execution_count": 31,
      "metadata": {
        "colab": {
          "base_uri": "https://localhost:8080/"
        },
        "id": "JAS3WKMSI9UW",
        "outputId": "689b1716-c8c5-4b9d-df5f-eec7b263d13b"
      },
      "outputs": [
        {
          "name": "stdout",
          "output_type": "stream",
          "text": [
            "\n",
            "Top Recommended Cryptocurrencies:\n",
            "                    coin symbol  price(USD)  1h_Price_Change  24h_Price_Change  7d_Price_Change   24h_volume   Market_cap       date\n",
            "                   Maker    MKR     1982.58            0.029             0.071            0.129 9.284773e+07 1.772468e+09 2022-03-16\n",
            "       Lido Staked Ether  STETH     2745.31            0.026             0.035            0.067 2.032703e+07 6.972220e+09 2022-03-16\n",
            "                Ethereum    ETH     2744.41            0.024             0.034            0.065 1.974870e+10 3.271044e+11 2022-03-16\n",
            "                 Bitcoin    BTC    40859.46            0.022             0.030            0.055 3.539076e+10 7.709915e+11 2022-03-16\n",
            "         Wrapped Bitcoin   WBTC    40820.44            0.020             0.030            0.055 4.430456e+08 1.107764e+10 2022-03-16\n",
            "Interest Bearing Bitcoin  IBBTC    40647.97            0.019             0.023            0.052 3.253900e+03 1.876183e+08 2022-03-16\n",
            "                  renBTC RENBTC    40555.22            0.016             0.034            0.048 1.482912e+07 6.025829e+08 2022-03-16\n",
            "                   Dopex    DPX     1126.14            0.034             0.006            0.031 4.629323e+06 2.004986e+08 2022-03-16\n",
            "           yearn.finance    YFI    18982.86            0.017             0.017           -0.014 8.187514e+07 6.783779e+08 2022-03-16\n",
            "             Tether Gold   XAUT     1950.12            0.003            -0.002           -0.044 3.689853e+06 4.803470e+08 2022-03-16\n"
          ]
        }
      ],
      "source": [
        "# User Input: Minimum and Maximum Price\n",
        "min_price = float(input(\"Enter minimum price: \"))\n",
        "max_price = float(input(\"Enter maximum price: \"))\n",
        "\n",
        "# User Input: High Market Cap Checkbox\n",
        "high_market_cap = input(\"Do you want to filter by high market cap? (y/n): \").lower() == 'y'\n",
        "\n",
        "# Filter Cryptocurrencies based on User Input\n",
        "filtered_crypto = crypto_data[(crypto_data['price(USD)'] >= min_price) &\n",
        "                              (crypto_data['price(USD)'] <= max_price)]\n",
        "\n",
        "if high_market_cap:\n",
        "    filtered_crypto = filtered_crypto[filtered_crypto['Market_cap'] > filtered_crypto['Market_cap'].median()]\n",
        "\n",
        "# Sort by highest 7-day percentage change within the filtered cryptocurrencies\n",
        "recommended_crypto = filtered_crypto.sort_values(by='7d_Price_Change', ascending=False).head(10)\n",
        "\n",
        "# Display Recommended Cryptocurrencies with Symbols, Prices, and 7-Day Percentage Changes in a Table\n",
        "recommended_table = recommended_crypto[['coin','symbol','price(USD)','1h_Price_Change','24h_Price_Change','7d_Price_Change','24h_volume','Market_cap','date']]\n",
        "recommended_table.columns = ['coin','symbol','price(USD)','1h_Price_Change','24h_Price_Change','7d_Price_Change','24h_volume','Market_cap','date']\n",
        "print(\"\\nTop Recommended Cryptocurrencies:\")\n",
        "print(recommended_table.to_string(index=False))"
      ]
    }
  ],
  "metadata": {
    "colab": {
      "provenance": []
    },
    "kernelspec": {
      "display_name": "Python 3",
      "name": "python3"
    },
    "language_info": {
      "codemirror_mode": {
        "name": "ipython",
        "version": 3
      },
      "file_extension": ".py",
      "mimetype": "text/x-python",
      "name": "python",
      "nbconvert_exporter": "python",
      "pygments_lexer": "ipython3",
      "version": "3.11.4"
    }
  },
  "nbformat": 4,
  "nbformat_minor": 0
}
